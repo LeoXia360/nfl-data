{
  "nbformat": 4,
  "nbformat_minor": 0,
  "metadata": {
    "kernelspec": {
      "display_name": "Python 2",
      "language": "python",
      "name": "python2"
    },
    "language_info": {
      "codemirror_mode": {
        "name": "ipython",
        "version": 2
      },
      "file_extension": ".py",
      "mimetype": "text/x-python",
      "name": "python",
      "nbconvert_exporter": "python",
      "pygments_lexer": "ipython2",
      "version": "2.7.14"
    },
    "colab": {
      "name": "wide-receivers.ipynb",
      "provenance": [],
      "include_colab_link": true
    }
  },
  "cells": [
    {
      "cell_type": "markdown",
      "metadata": {
        "id": "view-in-github",
        "colab_type": "text"
      },
      "source": [
        "<a href=\"https://colab.research.google.com/github/LeoXia360/nfl-data/blob/main/nfl/wide-receivers.ipynb\" target=\"_parent\"><img src=\"https://colab.research.google.com/assets/colab-badge.svg\" alt=\"Open In Colab\"/></a>"
      ]
    },
    {
      "cell_type": "code",
      "metadata": {
        "id": "h6-X_3otkGQO"
      },
      "source": [
        "import pandas as pd\n",
        "import numpy\n",
        "from xgboost import XGBClassifier\n",
        "import xgboost as xgb\n",
        "import matplotlib.pyplot as plt\n",
        "import seaborn as sns\n",
        "from sklearn.model_selection import train_test_split\n",
        "from sklearn.metrics import accuracy_score\n",
        "from sklearn.preprocessing import OneHotEncoder"
      ],
      "execution_count": 110,
      "outputs": []
    },
    {
      "cell_type": "code",
      "metadata": {
        "colab": {
          "base_uri": "https://localhost:8080/"
        },
        "id": "OcwHOSXIkcWs",
        "outputId": "f89cdd54-5b8e-44c4-ea9b-74dc4c70960d"
      },
      "source": [
        "from google.colab import drive\n",
        "drive.mount('/content/drive')"
      ],
      "execution_count": 111,
      "outputs": [
        {
          "output_type": "stream",
          "text": [
            "Drive already mounted at /content/drive; to attempt to forcibly remount, call drive.mount(\"/content/drive\", force_remount=True).\n"
          ],
          "name": "stdout"
        }
      ]
    },
    {
      "cell_type": "code",
      "metadata": {
        "id": "Pko0pnUokGQU"
      },
      "source": [
        "# This data set contains WRs from 2010+\n",
        "nfl_file_path = '/content/drive/MyDrive/wr_data_clean.csv'\n",
        "X = pd.read_csv(nfl_file_path)\n",
        "\n",
        "#Using Pearson Correlation\n",
        "# plt.figure(figsize=(20,20))\n",
        "# cor = X.corr()\n",
        "# sns.heatmap(cor, annot=True, cmap=plt.cm.Reds)\n",
        "# plt.show()\n",
        "\n",
        "\n",
        "X.drop(X.iloc[:, 0:1], inplace = True, axis = 1)\n",
        "#X.astype(float)\n",
        "y = X[\"# of top  24 finishes\"]"
      ],
      "execution_count": 119,
      "outputs": []
    },
    {
      "cell_type": "code",
      "metadata": {
        "id": "z9l3JxfkkGQU"
      },
      "source": [
        "from sklearn.model_selection import train_test_split\n",
        "\n",
        "seed = 7\n",
        "test_size = 0.2\n",
        "X_train, X_test, y_train, y_test = train_test_split(X, y, test_size=test_size, random_state=seed)"
      ],
      "execution_count": 120,
      "outputs": []
    },
    {
      "cell_type": "code",
      "metadata": {
        "colab": {
          "base_uri": "https://localhost:8080/"
        },
        "id": "wTB3Za2RkGQV",
        "outputId": "0920241a-d50b-4e27-ca54-9217ebf1be35"
      },
      "source": [
        "# fit model no training data\n",
        "model = XGBClassifier()\n",
        "model.fit(X_train, y_train)"
      ],
      "execution_count": 121,
      "outputs": [
        {
          "output_type": "execute_result",
          "data": {
            "text/plain": [
              "XGBClassifier(base_score=0.5, booster='gbtree', colsample_bylevel=1,\n",
              "       colsample_bytree=1, gamma=0, learning_rate=0.1, max_delta_step=0,\n",
              "       max_depth=3, min_child_weight=1, missing=None, n_estimators=100,\n",
              "       n_jobs=1, nthread=None, objective='multi:softprob', random_state=0,\n",
              "       reg_alpha=0, reg_lambda=1, scale_pos_weight=1, seed=None,\n",
              "       silent=True, subsample=1)"
            ]
          },
          "metadata": {
            "tags": []
          },
          "execution_count": 121
        }
      ]
    },
    {
      "cell_type": "code",
      "metadata": {
        "colab": {
          "base_uri": "https://localhost:8080/"
        },
        "id": "SxpsPWwfkGQW",
        "outputId": "3fb74668-e517-448f-a86c-7a3d6e60e0ae"
      },
      "source": [
        "print(model)"
      ],
      "execution_count": 122,
      "outputs": [
        {
          "output_type": "stream",
          "text": [
            "XGBClassifier(base_score=0.5, booster='gbtree', colsample_bylevel=1,\n",
            "       colsample_bytree=1, gamma=0, learning_rate=0.1, max_delta_step=0,\n",
            "       max_depth=3, min_child_weight=1, missing=None, n_estimators=100,\n",
            "       n_jobs=1, nthread=None, objective='multi:softprob', random_state=0,\n",
            "       reg_alpha=0, reg_lambda=1, scale_pos_weight=1, seed=None,\n",
            "       silent=True, subsample=1)\n"
          ],
          "name": "stdout"
        }
      ]
    },
    {
      "cell_type": "code",
      "metadata": {
        "colab": {
          "base_uri": "https://localhost:8080/"
        },
        "id": "R8gVM1ijkGQW",
        "outputId": "997c0546-8f55-46a7-c2fd-2757df0729f7"
      },
      "source": [
        "# make predictions for test data\n",
        "y_pred = model.predict(X_test)\n",
        "predictions = [round(value) for value in y_pred]\n",
        "X_test[\"# of top  24 finishes\"]"
      ],
      "execution_count": 124,
      "outputs": [
        {
          "output_type": "execute_result",
          "data": {
            "text/plain": [
              "118    0.0\n",
              "448    0.0\n",
              "452    0.0\n",
              "378    5.0\n",
              "300    2.0\n",
              "462    0.0\n",
              "120    0.0\n",
              "141    0.0\n",
              "429    0.0\n",
              "13     0.0\n",
              "293    0.0\n",
              "478    0.0\n",
              "409    4.0\n",
              "193    0.0\n",
              "273    0.0\n",
              "89     0.0\n",
              "467    0.0\n",
              "146    0.0\n",
              "90     0.0\n",
              "477    0.0\n",
              "179    1.0\n",
              "284    0.0\n",
              "394    1.0\n",
              "464    0.0\n",
              "202    0.0\n",
              "194    3.0\n",
              "382    0.0\n",
              "274    0.0\n",
              "406    8.0\n",
              "239    0.0\n",
              "      ... \n",
              "31     0.0\n",
              "417    0.0\n",
              "52     0.0\n",
              "456    0.0\n",
              "228    4.0\n",
              "56     0.0\n",
              "337    0.0\n",
              "2      0.0\n",
              "58     0.0\n",
              "411    0.0\n",
              "249    0.0\n",
              "457    1.0\n",
              "440    1.0\n",
              "443    0.0\n",
              "310    5.0\n",
              "434    0.0\n",
              "385    0.0\n",
              "80     0.0\n",
              "213    0.0\n",
              "26     0.0\n",
              "159    0.0\n",
              "280    0.0\n",
              "331    0.0\n",
              "401    0.0\n",
              "363    0.0\n",
              "50     0.0\n",
              "414    0.0\n",
              "14     0.0\n",
              "470    9.0\n",
              "101    0.0\n",
              "Name: # of top  24 finishes, Length: 96, dtype: float64"
            ]
          },
          "metadata": {
            "tags": []
          },
          "execution_count": 124
        }
      ]
    },
    {
      "cell_type": "code",
      "metadata": {
        "colab": {
          "base_uri": "https://localhost:8080/"
        },
        "id": "jHMUVfTykGQW",
        "outputId": "9b1e2294-e3b4-417a-969e-c16b5eca75ef"
      },
      "source": [
        "predictions\n"
      ],
      "execution_count": 125,
      "outputs": [
        {
          "output_type": "execute_result",
          "data": {
            "text/plain": [
              "[0.0,\n",
              " 0.0,\n",
              " 0.0,\n",
              " 5.0,\n",
              " 2.0,\n",
              " 0.0,\n",
              " 0.0,\n",
              " 0.0,\n",
              " 0.0,\n",
              " 0.0,\n",
              " 0.0,\n",
              " 0.0,\n",
              " 4.0,\n",
              " 0.0,\n",
              " 0.0,\n",
              " 0.0,\n",
              " 0.0,\n",
              " 0.0,\n",
              " 0.0,\n",
              " 0.0,\n",
              " 1.0,\n",
              " 0.0,\n",
              " 1.0,\n",
              " 0.0,\n",
              " 0.0,\n",
              " 3.0,\n",
              " 0.0,\n",
              " 0.0,\n",
              " 7.0,\n",
              " 0.0,\n",
              " 2.0,\n",
              " 0.0,\n",
              " 0.0,\n",
              " 0.0,\n",
              " 5.0,\n",
              " 2.0,\n",
              " 0.0,\n",
              " 0.0,\n",
              " 7.0,\n",
              " 0.0,\n",
              " 0.0,\n",
              " 0.0,\n",
              " 0.0,\n",
              " 0.0,\n",
              " 4.0,\n",
              " 6.0,\n",
              " 0.0,\n",
              " 0.0,\n",
              " 0.0,\n",
              " 1.0,\n",
              " 0.0,\n",
              " 0.0,\n",
              " 0.0,\n",
              " 0.0,\n",
              " 0.0,\n",
              " 0.0,\n",
              " 8.0,\n",
              " 0.0,\n",
              " 0.0,\n",
              " 0.0,\n",
              " 0.0,\n",
              " 0.0,\n",
              " 0.0,\n",
              " 0.0,\n",
              " 0.0,\n",
              " 7.0,\n",
              " 0.0,\n",
              " 0.0,\n",
              " 0.0,\n",
              " 0.0,\n",
              " 4.0,\n",
              " 0.0,\n",
              " 0.0,\n",
              " 0.0,\n",
              " 0.0,\n",
              " 0.0,\n",
              " 0.0,\n",
              " 1.0,\n",
              " 1.0,\n",
              " 0.0,\n",
              " 5.0,\n",
              " 0.0,\n",
              " 0.0,\n",
              " 0.0,\n",
              " 0.0,\n",
              " 0.0,\n",
              " 0.0,\n",
              " 0.0,\n",
              " 0.0,\n",
              " 0.0,\n",
              " 0.0,\n",
              " 0.0,\n",
              " 0.0,\n",
              " 0.0,\n",
              " 9.0,\n",
              " 0.0]"
            ]
          },
          "metadata": {
            "tags": []
          },
          "execution_count": 125
        }
      ]
    },
    {
      "cell_type": "code",
      "metadata": {
        "colab": {
          "base_uri": "https://localhost:8080/"
        },
        "id": "UGj9XNFJkGQX",
        "outputId": "7e9165d9-0655-4116-bd5a-f3ffe479cc3d"
      },
      "source": [
        "# evaluate predictions\n",
        "accuracy = accuracy_score(y_test, predictions)\n",
        "print(\"Accuracy: %.2f%%\" % (accuracy * 100.0))"
      ],
      "execution_count": 126,
      "outputs": [
        {
          "output_type": "stream",
          "text": [
            "Accuracy: 97.92%\n"
          ],
          "name": "stdout"
        }
      ]
    },
    {
      "cell_type": "code",
      "metadata": {
        "id": "_Wh7oKvwkGQX"
      },
      "source": [
        ""
      ],
      "execution_count": null,
      "outputs": []
    }
  ]
}